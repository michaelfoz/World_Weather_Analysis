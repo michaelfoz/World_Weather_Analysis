{
 "cells": [
  {
   "cell_type": "markdown",
   "id": "f95bb38d",
   "metadata": {},
   "source": [
    "# This file (API_practice.ipynb) was created per Module 6.2.3: Make an API Call"
   ]
  },
  {
   "cell_type": "markdown",
   "id": "0efbd6d3",
   "metadata": {},
   "source": [
    "# 6.2.3 Make an API Call"
   ]
  },
  {
   "cell_type": "code",
   "execution_count": 2,
   "id": "c4e2c4e7",
   "metadata": {},
   "outputs": [],
   "source": [
    "# In our API_practice file, add a new cell after the code we wrote to get the unique cities from with the citipy module. In the new cell, we will import the Requests Library and your API key from the config.py file.\n",
    "\n",
    "# NOTE\n",
    "# Your config.py file should be in the same folder as your API_practice.ipynb file or any Jupyter Notebook file that is accessing the config.py file."
   ]
  },
  {
   "cell_type": "code",
   "execution_count": 3,
   "id": "634a45fb",
   "metadata": {},
   "outputs": [],
   "source": [
    "# Import the requests library.\n",
    "import requests\n",
    "\n",
    "# Import the API key.\n",
    "from config import weather_api_key\n",
    "\n",
    "# NOTE\n",
    "# If you get a ModuleNotFoundError message, then either your config.py file is not in the same folder as the Jupyter Notebook file, or the name of your config.py file is not the same in the import statement.\n",
    "\n",
    "# If you get a ImportError message, then the variable for your API key in the code statement is not the same as the variable in your config.py file."
   ]
  },
  {
   "cell_type": "markdown",
   "id": "856b28f7",
   "metadata": {},
   "source": [
    "# Make an API Call"
   ]
  },
  {
   "cell_type": "code",
   "execution_count": 4,
   "id": "01337aef",
   "metadata": {},
   "outputs": [],
   "source": [
    "# Before we make an API call for the OpenWeatherMap, we need to use the URL provided on the OpenWeatherMap website.\n",
    "\n",
    "\n",
    "\n",
    "# Let's look at the documentation on the OpenWeatherMap website.\n",
    "# https://openweathermap.org/current\n",
    "\n",
    "# 1. Navigate to the OpenWeatherMap API documentation for current weather (Links to an external site.).\n",
    "\n",
    "# 2. This page provides instructions on how to make the API call by city name. The structure of our URL should look like the following:\n",
    "# api.openweathermap.org/data/2.5/weather?q=city&appid=b6907d289e10d714a6e88b30761fae22\n",
    "\n",
    "# 3. Add your API key and the city from the cities array for each call."
   ]
  },
  {
   "cell_type": "code",
   "execution_count": 5,
   "id": "dec22dcc",
   "metadata": {},
   "outputs": [
    {
     "name": "stdout",
     "output_type": "stream",
     "text": [
      "http://api.openweathermap.org/data/2.5/weather?units=Imperial&APPID=8da99d783ff566b5e48c0fd61c7787e8\n"
     ]
    }
   ],
   "source": [
    "# Next let's practice making an API call and look at the data returned from the API call. \n",
    "\n",
    "# Starting URL for Weather Map API Call.\n",
    "url = \"http://api.openweathermap.org/data/2.5/weather?units=Imperial&APPID=\" + weather_api_key\n",
    "print(url)\n",
    "\n",
    "# You may have noticed that we added another feature to the URL: units=Imperial. There are three unit options: standard, metric, and imperial. Navigating to the units section of the current weather data page (Links to an external site.) will show you the options for the unit format: standard metric, and imperial.\n",
    "\n",
    "# When we run the cell, the output will be a URL. Click the URL, and a new window will open in your default web browser. The URL will return a 400 message because we haven't added a city to our URL.\n",
    "\n",
    "# NOTE\n",
    "# Once you print out your URL, be sure to delete your printed URL from your notebook. This prevents your private API key from being stored in plain text."
   ]
  },
  {
   "cell_type": "code",
   "execution_count": 6,
   "id": "9bd786c5",
   "metadata": {},
   "outputs": [],
   "source": [
    "# When clicking the link, the page should read {\"cod\":\"400\",\"message\":\"Nothing to geocode\"}"
   ]
  },
  {
   "cell_type": "code",
   "execution_count": 7,
   "id": "2f5e490f",
   "metadata": {},
   "outputs": [
    {
     "name": "stdout",
     "output_type": "stream",
     "text": [
      "http://api.openweathermap.org/data/2.5/weather?units=Imperial&APPID=8da99d783ff566b5e48c0fd61c7787e8&q=Boston\n"
     ]
    }
   ],
   "source": [
    "# Now let's add a city to the URL to get the current weather data.\n",
    "\n",
    "# In the code, we are creating a string to get the weather data for Boston by using the city_url. To create the city_url we add the parameter, &q= and \"Boston\" to the url.\n",
    "\n",
    "# The output of this cell will also be a URL. Click the URL and a new window will open in your default web browser that shows the current weather data for Boston.\n",
    "\n",
    "# Create an endpoint URL for a city.\n",
    "city_url = url + \"&q=\" + \"Boston\"\n",
    "print(city_url)"
   ]
  },
  {
   "cell_type": "code",
   "execution_count": 8,
   "id": "305e1c27",
   "metadata": {},
   "outputs": [],
   "source": [
    "# To make the JSON format readable, add the Chrome JSONView extension (Links to an external site.) to your Chrome web browser.\n",
    "# https://chrome.google.com/webstore/detail/jsonview/chklaanhfefbnpoihckbnefhakgolnmc\n",
    "\n",
    "# The Boston weather data will appear as follows."
   ]
  },
  {
   "cell_type": "code",
   "execution_count": 9,
   "id": "a0d7b928",
   "metadata": {},
   "outputs": [],
   "source": [
    "# NOTE\n",
    "# You will need to use an extension on Safari to view JSON shown in the above image. Firefox does not need a JSON extension to view JSON files.\n",
    "\n",
    "# Since we're retrieving current weather data, the JSON data shown in the above image will differ from that in your endpoint printout. Instead, your weather data will reflect the specific time you ran the code."
   ]
  },
  {
   "cell_type": "markdown",
   "id": "5acd3c9d",
   "metadata": {},
   "source": [
    "# 6.2.4 Make a Request for Data to an API\n"
   ]
  },
  {
   "cell_type": "code",
   "execution_count": 10,
   "id": "371593be",
   "metadata": {},
   "outputs": [],
   "source": [
    "# Although we have seen the data in a web browser, we need to retrieve this data from the JSON file so we can add it to a DataFrame and make our visualizations."
   ]
  },
  {
   "cell_type": "markdown",
   "id": "f0b34edf",
   "metadata": {},
   "source": [
    "# Retrieve a Response Using the get() Method"
   ]
  },
  {
   "cell_type": "code",
   "execution_count": 11,
   "id": "283495c7",
   "metadata": {},
   "outputs": [],
   "source": [
    "# Use the get() method, a feature of the Requests Library, to request data from an API. The get() method is one of many HTTP methods that allow us to access, add, delete, get the headers, and perform other actions on the request.\n",
    "\n",
    "# Below is a list of HTTP methods and their uses. For more information, see the Requests Library (Links to an external site.).\n",
    "# https://requests.kennethreitz.org/en/master/\n",
    "\n",
    "\n",
    "\n",
    "# Request Methods:\n",
    "\n",
    "# get()\n",
    "# Action: Retrieves data from a web source\n",
    "\n",
    "# head()\n",
    "# Action: Retrieves the headers from a web source.\n",
    "\n",
    "# post()\n",
    "# Action: Adds or annotates data on a web source. Used on mailing groups, message boards, or comments.\n",
    "\n",
    "# put()\n",
    "# Action: Updates an existing resource. For example, if the date on a Wikipedia page is wrong, you can use the put() method to update that date.\n",
    "\n",
    "# delete()\n",
    "# Action: Deletes data from a web source.\n",
    "\n",
    "# options()\n",
    "# Action: Discovers what HTTP methods a web source allows.\n",
    "\n",
    "# patch()\n",
    "# Action: Partially modifies a web source."
   ]
  },
  {
   "cell_type": "code",
   "execution_count": 12,
   "id": "d6706c7e",
   "metadata": {},
   "outputs": [
    {
     "data": {
      "text/plain": [
       "<Response [200]>"
      ]
     },
     "execution_count": 12,
     "metadata": {},
     "output_type": "execute_result"
    }
   ],
   "source": [
    "# Inside the parentheses of the get() method, add the URL–in our case, the city_url. Let's make a request to get our weather data for Boston.\n",
    "\n",
    "\n",
    "\n",
    "# Make a 'Get' request for the city weather.\n",
    "city_weather = requests.get(city_url)\n",
    "city_weather\n",
    "\n",
    "# The code output will be <Response [200]>, indicating a valid response. We won't see this code when a website appears in a browser. However, when a website does not appear, we'll see a 404 code, indicating a client error."
   ]
  },
  {
   "cell_type": "code",
   "execution_count": 13,
   "id": "2cc391ab",
   "metadata": {},
   "outputs": [
    {
     "data": {
      "text/plain": [
       "200"
      ]
     },
     "execution_count": 13,
     "metadata": {},
     "output_type": "execute_result"
    }
   ],
   "source": [
    "# You can directly call the response code with the get() method using the status_code. If we chain the status_code to the city_weather variable, we get 200 as the output.\n",
    "\n",
    "city_weather.status_code"
   ]
  },
  {
   "cell_type": "code",
   "execution_count": 14,
   "id": "b8f47d10",
   "metadata": {},
   "outputs": [
    {
     "data": {
      "text/plain": [
       "<Response [404]>"
      ]
     },
     "execution_count": 14,
     "metadata": {},
     "output_type": "execute_result"
    }
   ],
   "source": [
    "# If we tried to get weather data from an unrecognized city, or if the weather data for a city wasn't available, we would get a 404 response.\n",
    "\n",
    "# Let's see what would happen if we misspelled a city name–\"Bston\" instead of \"Boston.\"\n",
    "\n",
    "# Create an endpoint URL for a city.\n",
    "city_url = url + \"&q=\" + \"Bston\"\n",
    "city_weather = requests.get(city_url)\n",
    "city_weather\n",
    "\n",
    "# When we run this cell the output is a <Response [404]>."
   ]
  },
  {
   "cell_type": "code",
   "execution_count": 15,
   "id": "9dd29604",
   "metadata": {},
   "outputs": [],
   "source": [
    "# We'll review how to handle such response errors, but first, let's learn how to get data from a request."
   ]
  },
  {
   "cell_type": "markdown",
   "id": "dccfb570",
   "metadata": {},
   "source": [
    "\n",
    "# Get Data from a Response"
   ]
  },
  {
   "cell_type": "code",
   "execution_count": 16,
   "id": "97580eeb",
   "metadata": {},
   "outputs": [
    {
     "data": {
      "text/plain": [
       "<Response [200]>"
      ]
     },
     "execution_count": 16,
     "metadata": {},
     "output_type": "execute_result"
    }
   ],
   "source": [
    "# Now, we'll see what happens when we get a valid response.\n",
    "\n",
    "# In a new cell, correct the spelling for the city of \"Boston\" to create the city_url.\n",
    "\n",
    "# Create an endpoint URL for a city.\n",
    "city_url = url + \"&q=\" + \"Boston\"\n",
    "city_weather = requests.get(city_url)\n",
    "city_weather\n",
    "\n",
    "# When we run this cell the output is \"<Response [200]>.\"\n",
    "\n",
    "# When we receive a valid response from the server, we have to decide on the data format. The options are text, JSON, XML, or HTML format. We can apply the format attributes to get the data into a useful format to parse."
   ]
  },
  {
   "cell_type": "code",
   "execution_count": 17,
   "id": "827c093d",
   "metadata": {},
   "outputs": [
    {
     "data": {
      "text/plain": [
       "'{\"coord\":{\"lon\":-71.0598,\"lat\":42.3584},\"weather\":[{\"id\":801,\"main\":\"Clouds\",\"description\":\"few clouds\",\"icon\":\"02d\"}],\"base\":\"stations\",\"main\":{\"temp\":50.25,\"feels_like\":47.19,\"temp_min\":46.67,\"temp_max\":53.58,\"pressure\":1022,\"humidity\":47},\"visibility\":10000,\"wind\":{\"speed\":15.01,\"deg\":339,\"gust\":31},\"clouds\":{\"all\":20},\"dt\":1650468449,\"sys\":{\"type\":2,\"id\":2013408,\"country\":\"US\",\"sunrise\":1650448514,\"sunset\":1650497439},\"timezone\":-14400,\"id\":4930956,\"name\":\"Boston\",\"cod\":200}'"
      ]
     },
     "execution_count": 17,
     "metadata": {},
     "output_type": "execute_result"
    }
   ],
   "source": [
    "# One format that provides a preview of the JSON data is the text attribute. Let's get the content for the Boston weather data using the following code.\n",
    "\n",
    "# Get the text of the 'Get' request.\n",
    "city_weather.text"
   ]
  },
  {
   "cell_type": "code",
   "execution_count": 18,
   "id": "2d8de366",
   "metadata": {},
   "outputs": [],
   "source": [
    "# ^^^ (Ouput above: The text in the output is a dictionary of dictionaries and arrays, or a JSON file. We can work with this data, but it might be more challenging if we needed to retrieve temperature (temp) and humidity (humidity) from this output because the data is in a sentence format."
   ]
  },
  {
   "cell_type": "code",
   "execution_count": 19,
   "id": "2532c963",
   "metadata": {},
   "outputs": [
    {
     "data": {
      "text/plain": [
       "{'coord': {'lon': -71.0598, 'lat': 42.3584},\n",
       " 'weather': [{'id': 801,\n",
       "   'main': 'Clouds',\n",
       "   'description': 'few clouds',\n",
       "   'icon': '02d'}],\n",
       " 'base': 'stations',\n",
       " 'main': {'temp': 50.25,\n",
       "  'feels_like': 47.19,\n",
       "  'temp_min': 46.67,\n",
       "  'temp_max': 53.58,\n",
       "  'pressure': 1022,\n",
       "  'humidity': 47},\n",
       " 'visibility': 10000,\n",
       " 'wind': {'speed': 15.01, 'deg': 339, 'gust': 31},\n",
       " 'clouds': {'all': 20},\n",
       " 'dt': 1650468449,\n",
       " 'sys': {'type': 2,\n",
       "  'id': 2013408,\n",
       "  'country': 'US',\n",
       "  'sunrise': 1650448514,\n",
       "  'sunset': 1650497439},\n",
       " 'timezone': -14400,\n",
       " 'id': 4930956,\n",
       " 'name': 'Boston',\n",
       " 'cod': 200}"
      ]
     },
     "execution_count": 19,
     "metadata": {},
     "output_type": "execute_result"
    }
   ],
   "source": [
    "# Let's use the json() attribute with our response and run the cell.\n",
    "\n",
    "# Get the JSON text of the 'Get' request.\n",
    "city_weather.json()\n",
    "\n",
    "# When we run the cell the output will be the weather data for Boston in JSON format."
   ]
  },
  {
   "cell_type": "code",
   "execution_count": 20,
   "id": "827a82c5",
   "metadata": {},
   "outputs": [],
   "source": [
    "# ^^^ Output above: With the JSON method, it is a lot easier to see the overall structure of the data, which will make it easier to retrieve data such as temperature and humidity."
   ]
  },
  {
   "cell_type": "markdown",
   "id": "845bd670",
   "metadata": {},
   "source": [
    "# Handle Request Errors"
   ]
  },
  {
   "cell_type": "code",
   "execution_count": 21,
   "id": "858fe9f1",
   "metadata": {},
   "outputs": [
    {
     "name": "stdout",
     "output_type": "stream",
     "text": [
      "City Weather found.\n"
     ]
    }
   ],
   "source": [
    "# When we submit a get request for the city_weather, we want to make sure that we get a valid response, i.e., 200, before we retrieve any data. To check if we get a valid response, we can write a conditional expression that will evaluate whether the status code is equal to 200. If it is, then we can print out a statement that says the weather data was found. If there is a response other than 200, we can print out a statement that says the weather was not found, as in the following example:\n",
    "\n",
    "# Create an endpoint URL for a city.\n",
    "city_url = url + \"&q=\" + \"Boston\"\n",
    "city_weather = requests.get(city_url)\n",
    "if city_weather.status_code == 200:\n",
    "    print(f\"City Weather found.\")\n",
    "else:\n",
    "    print(f\"City weather not found.\")"
   ]
  },
  {
   "cell_type": "code",
   "execution_count": 22,
   "id": "0503dc12",
   "metadata": {},
   "outputs": [],
   "source": [
    "# When the conditional expression is evaluated, it will print City weather found if true, or City weather not found if false. When we run the cell code above, the output is City weather found.\n",
    "\n",
    "# NOTE\n",
    "# If the status_code is something other than 200, JSON data will always be returned in the request. We can determine if the response was successful by checking the status_code, clicking the URL, or retrieving specific information from the JSON data."
   ]
  },
  {
   "cell_type": "code",
   "execution_count": 23,
   "id": "204efc26",
   "metadata": {},
   "outputs": [
    {
     "name": "stdout",
     "output_type": "stream",
     "text": [
      "City weather not found.\n"
     ]
    }
   ],
   "source": [
    "# test if we get the JSON formatted data.\n",
    "\n",
    "# Create an endpoint URL for a city.\n",
    "city_url = url + \"&q=\" + \"Bston\"\n",
    "city_weather = requests.get(city_url)\n",
    "if city_weather.status_code == 200:\n",
    "    print(f\"City Weather found.\")\n",
    "else:\n",
    "    print(f\"City weather not found.\")"
   ]
  },
  {
   "cell_type": "code",
   "execution_count": 24,
   "id": "fd0b16d0",
   "metadata": {},
   "outputs": [
    {
     "name": "stdout",
     "output_type": "stream",
     "text": [
      "http://api.openweathermap.org/data/2.5/weather?units=Imperial&APPID=8da99d783ff566b5e48c0fd61c7787e8&q=Bston\n"
     ]
    }
   ],
   "source": [
    "# ^^^ Ouput above: The output for this code is City weather not found.\n",
    "\n",
    "# However, if we type print(city_url) in a new cell and run the cell, the output will be a URL. If we click the URL, the web browser returns a 404 response and there is no data to retrieve.\n",
    "\n",
    "print(city_url)"
   ]
  },
  {
   "cell_type": "code",
   "execution_count": 25,
   "id": "1821c49c",
   "metadata": {},
   "outputs": [],
   "source": [
    "# We'll learn more about how to handle retrieving JSON data from a URL later in this module."
   ]
  },
  {
   "cell_type": "markdown",
   "id": "d8bfc884",
   "metadata": {},
   "source": [
    "# 6.2.5 Parse a Response from an API"
   ]
  },
  {
   "cell_type": "code",
   "execution_count": 26,
   "id": "ee5b29d7",
   "metadata": {},
   "outputs": [],
   "source": [
    "# For each city in our lats_lngs list, we need to retrieve the following data and add it to a DataFrame:\n",
    "\n",
    "# City, country, and date\n",
    "# Latitude and longitude\n",
    "# Maximum temperature\n",
    "# Humidity\n",
    "# Cloudiness\n",
    "# Wind speed"
   ]
  },
  {
   "cell_type": "code",
   "execution_count": 27,
   "id": "74307425",
   "metadata": {},
   "outputs": [
    {
     "data": {
      "text/plain": [
       "{'coord': {'lon': -71.0598, 'lat': 42.3584},\n",
       " 'weather': [{'id': 801,\n",
       "   'main': 'Clouds',\n",
       "   'description': 'few clouds',\n",
       "   'icon': '02d'}],\n",
       " 'base': 'stations',\n",
       " 'main': {'temp': 50.25,\n",
       "  'feels_like': 47.19,\n",
       "  'temp_min': 46.67,\n",
       "  'temp_max': 53.58,\n",
       "  'pressure': 1022,\n",
       "  'humidity': 47},\n",
       " 'visibility': 10000,\n",
       " 'wind': {'speed': 15.01, 'deg': 339, 'gust': 31},\n",
       " 'clouds': {'all': 20},\n",
       " 'dt': 1650468449,\n",
       " 'sys': {'type': 2,\n",
       "  'id': 2013408,\n",
       "  'country': 'US',\n",
       "  'sunrise': 1650448514,\n",
       "  'sunset': 1650497439},\n",
       " 'timezone': -14400,\n",
       " 'id': 4930956,\n",
       " 'name': 'Boston',\n",
       " 'cod': 200}"
      ]
     },
     "execution_count": 27,
     "metadata": {},
     "output_type": "execute_result"
    }
   ],
   "source": [
    "# Before we collect weather data from more than 500 cities, we'll walk through how to get the weather data from Boston. First, correct the spelling for the city of Boston to get a valid URL. Then, in a new cell, add the following code and run the cell.\n",
    "\n",
    "# Create an endpoint URL for a city.\n",
    "city_url = url + \"&q=\" + \"Boston\"\n",
    "city_weather = requests.get(city_url)\n",
    "city_weather.json()"
   ]
  },
  {
   "cell_type": "code",
   "execution_count": 28,
   "id": "6cf5e675",
   "metadata": {},
   "outputs": [],
   "source": [
    "# ^^^ Ouptput above: After running the cell, the output will be the JSON-formatted data from the city of Boston."
   ]
  },
  {
   "cell_type": "code",
   "execution_count": 29,
   "id": "ab1b8448",
   "metadata": {},
   "outputs": [],
   "source": [
    "#First, let's get something simple, like the country code from the JSON formatted data, which is in a nested dictionary where the first dictionary starts with sys.\n",
    "\n",
    "# 1. In a new cell, let's assign a variable to the city_weather.json() data to the variable \"boston_data\" and run the cell.\n",
    "\n",
    "# Get the JSON data.\n",
    "boston_data = city_weather.json()"
   ]
  },
  {
   "cell_type": "code",
   "execution_count": 30,
   "id": "9819aaa5",
   "metadata": {},
   "outputs": [
    {
     "data": {
      "text/plain": [
       "{'type': 2,\n",
       " 'id': 2013408,\n",
       " 'country': 'US',\n",
       " 'sunrise': 1650448514,\n",
       " 'sunset': 1650497439}"
      ]
     },
     "execution_count": 30,
     "metadata": {},
     "output_type": "execute_result"
    }
   ],
   "source": [
    "# 2. Next, using the sys key to get the corresponding value, we type boston_data['sys'] in a new cell and run the cell. The output is another dictionary as shown in the following image.\n",
    "\n",
    "boston_data[\"sys\"]"
   ]
  },
  {
   "cell_type": "code",
   "execution_count": 31,
   "id": "02a58f64",
   "metadata": {},
   "outputs": [
    {
     "data": {
      "text/plain": [
       "'US'"
      ]
     },
     "execution_count": 31,
     "metadata": {},
     "output_type": "execute_result"
    }
   ],
   "source": [
    "# 3. If we add the country key in brackets after the sys key, and run the cell again, ‘US’ will be returned in the output.\n",
    "\n",
    "boston_data[\"sys\"][\"country\"]\n",
    "\n",
    "# NOTE\n",
    "# When we used boston_data[\"sys\"], there was a key for sunrise and a key for sunset in the output. The value for these keys is the time of day in seconds in a database timestamp format."
   ]
  },
  {
   "cell_type": "code",
   "execution_count": 32,
   "id": "074942c2",
   "metadata": {},
   "outputs": [
    {
     "data": {
      "text/plain": [
       "1650468449"
      ]
     },
     "execution_count": 32,
     "metadata": {},
     "output_type": "execute_result"
    }
   ],
   "source": [
    "# If we want to retrieve the date in the weather data, we would add the dt key to the boston_data variable like this: boston_data[\"dt\"].\n",
    "\n",
    "boston_data[\"dt\"]"
   ]
  },
  {
   "cell_type": "code",
   "execution_count": 33,
   "id": "455aa16c",
   "metadata": {},
   "outputs": [
    {
     "data": {
      "text/plain": [
       "42.3584"
      ]
     },
     "execution_count": 33,
     "metadata": {},
     "output_type": "execute_result"
    }
   ],
   "source": [
    "# How would you get the latitude value from the Boston JSON data? \n",
    "boston_data[\"coord\"][\"lat\"]"
   ]
  },
  {
   "cell_type": "code",
   "execution_count": 34,
   "id": "f9800005",
   "metadata": {},
   "outputs": [
    {
     "data": {
      "text/plain": [
       "53.58"
      ]
     },
     "execution_count": 34,
     "metadata": {},
     "output_type": "execute_result"
    }
   ],
   "source": [
    "# How would you get the maximum temperature value from the Boston JSON data? \n",
    "\n",
    "boston_data[\"main\"][\"temp_max\"]"
   ]
  },
  {
   "cell_type": "code",
   "execution_count": 35,
   "id": "f8a10959",
   "metadata": {},
   "outputs": [
    {
     "name": "stdout",
     "output_type": "stream",
     "text": [
      "42.3584 -71.0598 53.58 47 20 15.01\n"
     ]
    }
   ],
   "source": [
    "# Using similar syntax to get the time of day, we can get the latitude, longitude, maximum temperature, humidity, percent cloudiness, and wind speed.\n",
    "\n",
    "lat = boston_data[\"coord\"][\"lat\"]\n",
    "lng = boston_data[\"coord\"][\"lon\"]\n",
    "max_temp = boston_data[\"main\"][\"temp_max\"]\n",
    "humidity = boston_data[\"main\"][\"humidity\"]\n",
    "clouds = boston_data[\"clouds\"][\"all\"]\n",
    "wind = boston_data[\"wind\"][\"speed\"]\n",
    "print(lat, lng, max_temp, humidity, clouds, wind)"
   ]
  },
  {
   "cell_type": "code",
   "execution_count": 36,
   "id": "d960c716",
   "metadata": {},
   "outputs": [],
   "source": [
    "# ^^^ Output above: all of the weather parameters, with the units for maximum temperature in degrees Fahrenheit, the humidity and clouds as a percentage, and the wind in miles per hour."
   ]
  },
  {
   "cell_type": "markdown",
   "id": "9ca3388c",
   "metadata": {},
   "source": [
    "# Convert the Date Timestamp"
   ]
  },
  {
   "cell_type": "code",
   "execution_count": 37,
   "id": "d5f49983",
   "metadata": {},
   "outputs": [
    {
     "data": {
      "text/plain": [
       "1650468449"
      ]
     },
     "execution_count": 37,
     "metadata": {},
     "output_type": "execute_result"
    }
   ],
   "source": [
    "# The date format will appear in seconds, as we saw when we ran this code.\n",
    "boston_data[\"dt\"]\n",
    "\n",
    "# This format is called Coordinated Universal Time (UTC) or Greenwich Mean Time (GMT). If we want to convert the timestamp to the International Organization for Standardization (ISO) format, or YYYY-MM-DD-HH-MM-SS, we need to use the Python datetime module.\n",
    "\n",
    "# Let's convert the date from the Boston weather data in the JSON format to the ISO format."
   ]
  },
  {
   "cell_type": "code",
   "execution_count": 38,
   "id": "32cddadd",
   "metadata": {},
   "outputs": [
    {
     "data": {
      "text/plain": [
       "datetime.datetime(2022, 4, 20, 15, 27, 29)"
      ]
     },
     "execution_count": 38,
     "metadata": {},
     "output_type": "execute_result"
    }
   ],
   "source": [
    "# Add the following code to a new cell in the API_practice file and run the cell.\n",
    "\n",
    "# Import the datetime module from the datetime library.\n",
    "from datetime import datetime\n",
    "# Get the date from the JSON file.\n",
    "date = boston_data[\"dt\"]\n",
    "# Convert the UTC date to a date format with year, month, day, hours, minutes, and seconds.\n",
    "datetime.utcfromtimestamp(date)"
   ]
  },
  {
   "cell_type": "code",
   "execution_count": 39,
   "id": "3c14c4bb",
   "metadata": {},
   "outputs": [],
   "source": [
    "# ^^^ Output above: the output is now in the ISO format with the, year, month, date, hour, minute, and seconds offset by commas."
   ]
  },
  {
   "cell_type": "code",
   "execution_count": 40,
   "id": "216828ee",
   "metadata": {},
   "outputs": [
    {
     "data": {
      "text/plain": [
       "'2022-04-20 15:27:29'"
      ]
     },
     "execution_count": 40,
     "metadata": {},
     "output_type": "execute_result"
    }
   ],
   "source": [
    "# We can convert this datetime format to 2019-10-21 17:24:35 using the Python string format method strftime() and adding how we want the string to look inside the parentheses. In our case, we would use strftime('%Y-%m-%d %H:%M:%S').\n",
    "\n",
    "# Add .strftime('%Y-%m-%d %H:%M:%S') to the end of the conversion: datetime.utcfromtimestamp(date).strftime('%Y-%m-%d %H:%M:%S'). Rerun the cell. The output should look like the following.\n",
    "\n",
    "datetime.utcfromtimestamp(date).strftime('%Y-%m-%d %H:%M:%S')"
   ]
  },
  {
   "cell_type": "code",
   "execution_count": 41,
   "id": "9b8cdb6b",
   "metadata": {},
   "outputs": [],
   "source": [
    "# Now that we know how to get all the weather data from a JSON response, we can iterate through our cities list and retrieve the data from each city.\n",
    "\n",
    "# NOTE\n",
    "# For more information about the datetime library and strftime(), see the documentation:\n",
    "\n",
    "# datetime (Links to an external site.)\n",
    "# https://docs.python.org/3.7/library/datetime.html\n",
    "\n",
    "# strftime()\n",
    "# https://docs.python.org/3.7/library/datetime.html#strftime-and-strptime-behavior"
   ]
  },
  {
   "cell_type": "markdown",
   "id": "f2523ecd",
   "metadata": {},
   "source": [
    "# 6.3.1 Plot Latitude vs. Temperature"
   ]
  },
  {
   "cell_type": "code",
   "execution_count": 2,
   "id": "466f402a",
   "metadata": {},
   "outputs": [],
   "source": [
    "# Your final scatter plot will need the current date in the title. To add the current date, we will need to import the time module, rather than the datetime module that we used to convert the date. The time module is a standard Python library, so there is no need to install it."
   ]
  },
  {
   "cell_type": "code",
   "execution_count": 1,
   "id": "497da1f0",
   "metadata": {},
   "outputs": [
    {
     "data": {
      "text/plain": [
       "1651005329.0668275"
      ]
     },
     "execution_count": 1,
     "metadata": {},
     "output_type": "execute_result"
    }
   ],
   "source": [
    "# Import the time module.\n",
    "import time\n",
    "# Get today's date in seconds.\n",
    "today = time.time()\n",
    "today"
   ]
  },
  {
   "cell_type": "code",
   "execution_count": 4,
   "id": "450673ee",
   "metadata": {},
   "outputs": [],
   "source": [
    "# When we call the time() function with the time module, we get the output of today's time in seconds as a floating-point decimal number."
   ]
  },
  {
   "cell_type": "code",
   "execution_count": 7,
   "id": "6282d7e0",
   "metadata": {},
   "outputs": [
    {
     "data": {
      "text/plain": [
       "'04/26/22'"
      ]
     },
     "execution_count": 7,
     "metadata": {},
     "output_type": "execute_result"
    }
   ],
   "source": [
    "# The format for time appears like the datetime stamp for the JSON weather data. We can convert this using the string format method, strftime() and pass the formatting parameters for our date in parentheses. To get the format for today, we can add %x inside the parentheses.\n",
    "\n",
    "today = time.strftime(\"%x\")\n",
    "today  "
   ]
  },
  {
   "cell_type": "code",
   "execution_count": null,
   "id": "4fef5519",
   "metadata": {},
   "outputs": [],
   "source": []
  }
 ],
 "metadata": {
  "kernelspec": {
   "display_name": "PythonData",
   "language": "python",
   "name": "pythondata"
  },
  "language_info": {
   "codemirror_mode": {
    "name": "ipython",
    "version": 3
   },
   "file_extension": ".py",
   "mimetype": "text/x-python",
   "name": "python",
   "nbconvert_exporter": "python",
   "pygments_lexer": "ipython3",
   "version": "3.7.11"
  }
 },
 "nbformat": 4,
 "nbformat_minor": 5
}
