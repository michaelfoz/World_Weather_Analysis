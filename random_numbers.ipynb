{
 "cells": [
  {
   "cell_type": "code",
   "execution_count": 2,
   "id": "e5e1898b",
   "metadata": {},
   "outputs": [],
   "source": [
    "# This file random_numbers.ipynb created per Module 6.1.4: Generate Random Latitude and Longitudes"
   ]
  },
  {
   "cell_type": "code",
   "execution_count": 3,
   "id": "64db6025",
   "metadata": {},
   "outputs": [],
   "source": [
    "# KEY TERMS FROM MODULE 6.1.3: Review the Geographic Coordinate System\n",
    "\n",
    "# Geographic coordinate system (GCS) is used to reference and poiny on \n",
    "# Earth by its longitutde and latitutde coordinates.\n",
    "\n",
    "# Latitudes are imaginary lines on Earth that run parallel East to West\n",
    "# and are measured in angular units (called degrees, minutes and seconds),\n",
    "# with 60 minutes in a degree and 60 seconds in a minute.\n",
    "    # Sometimes a latitude is referred to as a \"parallel.\"\n",
    "    # Example: the embattled 38th parallel (38° North) in East Asia that \n",
    "        #roughly demarcates North Korea and South Korea.\n",
    "    \n",
    "# The Equator is an imaginary line around the middle of the Earth that is equidistant\n",
    "# from the North and South poles and has a latitude of 0 degrees.\n",
    "# The Equator splits Earth into Northern and Southern Hemispheres.\n",
    "\n",
    "# All latitude lines above the equator are measured northward and considered positive,\n",
    "# after 0° (the equator) and up to 90°, or 90° north (the North Pole). \n",
    "# All latitude lines below the equator are measured southward and considered negative,\n",
    "# before 0° (the equator) and down to –90°, or 90° south (the South Pole).\n",
    "\n",
    "# Longitudes are imaginary lines on Earth that run from the North to the South Poles and are called meridians.\n",
    "\n",
    "# The prime meridian represents zero meridian, the origin for longitude coordinates, \n",
    "    # and splits Earth into the Eastern and Western Hemispheres.\n",
    "# The prime meridian passes through Greenwich, England, from which longitude east and west is measured.\n",
    "# All meridians east of the prime meridian are considered positive, after 0° and up to 180°. \n",
    "# All meridians west of the prime meridian are considered negative, before 0° and down to –180°.\n",
    "\n",
    "# All together, the lines of latitude (parallels) and longitude (meridians) make up a geographic grid, as if the Earth were wrapped in graph paper with intersecting horizontal and vertical lines mapping to specific locations.\n",
    "\n",
    "# GCS makes it possible to pinpoint any place on Earth by providing its precise address, which is the intersection of its latitude and longitude lines."
   ]
  },
  {
   "cell_type": "code",
   "execution_count": null,
   "id": "386ad801",
   "metadata": {},
   "outputs": [],
   "source": []
  },
  {
   "cell_type": "code",
   "execution_count": 4,
   "id": "6c24bb31",
   "metadata": {},
   "outputs": [],
   "source": [
    "# This module will cover randint(), random(), randrange() and uniform() functions."
   ]
  },
  {
   "cell_type": "code",
   "execution_count": null,
   "id": "dd750070",
   "metadata": {},
   "outputs": [],
   "source": []
  },
  {
   "cell_type": "code",
   "execution_count": 5,
   "id": "5b59c291",
   "metadata": {},
   "outputs": [],
   "source": [
    "# Import the random module.\n",
    "import random"
   ]
  },
  {
   "cell_type": "markdown",
   "id": "8ac70a64",
   "metadata": {},
   "source": [
    "# The randint() Function"
   ]
  },
  {
   "cell_type": "code",
   "execution_count": 6,
   "id": "8004bcdd",
   "metadata": {
    "scrolled": true
   },
   "outputs": [
    {
     "data": {
      "text/plain": [
       "-11"
      ]
     },
     "execution_count": 6,
     "metadata": {},
     "output_type": "execute_result"
    }
   ],
   "source": [
    "# Generate random integers between -90 to 90; we need 2 latitudes between -90 and 90.\n",
    "random.randint(-90, 90)"
   ]
  },
  {
   "cell_type": "code",
   "execution_count": 7,
   "id": "735c399c",
   "metadata": {},
   "outputs": [],
   "source": [
    "# Output above: although the function above returns 1 integer, we need a total of 1,500 random decimal numbers.\n",
    "# We will try a different function below."
   ]
  },
  {
   "cell_type": "markdown",
   "id": "96bb6d80",
   "metadata": {},
   "source": [
    "# The random() Function"
   ]
  },
  {
   "cell_type": "code",
   "execution_count": 8,
   "id": "a354a8fd",
   "metadata": {},
   "outputs": [
    {
     "data": {
      "text/plain": [
       "0.9889322722339497"
      ]
     },
     "execution_count": 8,
     "metadata": {},
     "output_type": "execute_result"
    }
   ],
   "source": [
    "# Using the random() function, we can get a single floating-point decimal number between 0 and 1.0.\n",
    "\n",
    "random.random()"
   ]
  },
  {
   "cell_type": "code",
   "execution_count": 9,
   "id": "18a3147d",
   "metadata": {},
   "outputs": [],
   "source": [
    "# ↑ The output above should be a decimal point number between 0 and 1.0."
   ]
  },
  {
   "cell_type": "code",
   "execution_count": 10,
   "id": "6513086f",
   "metadata": {},
   "outputs": [],
   "source": [
    "# The random() function may help us. \n",
    "# This function returns only a floating-point decimal number between 0 and 1.0.\n",
    "# If we combine random.randint(-90, 89) and random.random() to generate a floating-point decimal between –90 and 90,\n",
    "# we can generate a random latitude. We changed the lower range of the randint() because we want whole numbers up to 89,\n",
    "# so when we add the floating-point decimal number, \n",
    "# we'll generate latitudes between –89.99999 and 89.99999. "
   ]
  },
  {
   "cell_type": "code",
   "execution_count": 11,
   "id": "c358e4a3",
   "metadata": {},
   "outputs": [
    {
     "name": "stdout",
     "output_type": "stream",
     "text": [
      "-46.03955449390431\n",
      "-18.35374511793247\n",
      "55.51225352316853\n",
      "64.3544697514452\n",
      "50.74940587859358\n",
      "-11.40651209070448\n",
      "-11.943118961171777\n",
      "32.039373320104524\n",
      "-3.8046044666068606\n",
      "81.12384573746516\n"
     ]
    }
   ],
   "source": [
    "# Using randint() and random(), we can write an algorithm that will generate latitudes between –90 and 89.\n",
    "\n",
    "# Here is a small sample of what it might take to generate ten random floating-point decimal latitudes between –90 and 89.\n",
    "\n",
    "x = 1\n",
    "latitudes = []\n",
    "while x < 11:\n",
    "    random_lat = random.randint(-90, 89) + random.random()\n",
    "    latitudes.append(random_lat)\n",
    "    print(random_lat)\n",
    "    x += 1\n",
    "    \n",
    "# ↑ In the code block above, we:\n",
    "\n",
    "# 1. Assign the variable x to 1.\n",
    "# 2. Initialize an empty list, latitudes.\n",
    "# 3. We create a while loop where we generate a random latitude and add it to the list.\n",
    "# 4. After the random latitude is added to the list we add one to the variable \"x\".\n",
    "# 5. The while loop condition is checked again and will continue to run as long as x is less than 11."
   ]
  },
  {
   "cell_type": "code",
   "execution_count": 12,
   "id": "c2385cbc",
   "metadata": {},
   "outputs": [],
   "source": [
    "# Next, we would have to use a similar method to get random longitudes between –180 and 180, \n",
    "# which we can then pair with the latitudes. This looks promising, but the code to generate the latitudes above is a little long.\n",
    "\n",
    "# Let's try another function, the randrange() function (below)."
   ]
  },
  {
   "cell_type": "markdown",
   "id": "eef18481",
   "metadata": {},
   "source": [
    "# The randrange() Function"
   ]
  },
  {
   "cell_type": "code",
   "execution_count": 13,
   "id": "c57396e4",
   "metadata": {},
   "outputs": [],
   "source": [
    "# The randrange() function behaves differently than the previous two functions.\n",
    "# Inside the parentheses, we need to add two numbers, a lower and upper limit, separated by a comma.\n",
    "\n",
    "# For the randrange() function, there is an option to add a step parameter and set it equal to an integer, \n",
    "# which will generate increments of a given integer value, from the lower to the upper limit."
   ]
  },
  {
   "cell_type": "code",
   "execution_count": 14,
   "id": "330e77da",
   "metadata": {},
   "outputs": [
    {
     "data": {
      "text/plain": [
       "80"
      ]
     },
     "execution_count": 14,
     "metadata": {},
     "output_type": "execute_result"
    }
   ],
   "source": [
    "# For example, add random.randrange(-90, 90, step=1) to a new cell and run the cell. \n",
    "# The output is a number between -90 and 90, where the step is the difference between each number in the sequence.\n",
    "random.randrange(-90, 90, step=1)"
   ]
  },
  {
   "cell_type": "code",
   "execution_count": 15,
   "id": "e576943c",
   "metadata": {},
   "outputs": [
    {
     "data": {
      "text/plain": [
       "-9"
      ]
     },
     "execution_count": 15,
     "metadata": {},
     "output_type": "execute_result"
    }
   ],
   "source": [
    "# Now add random.randrange(-90, 90, step=3) to a new cell and run the cell. \n",
    "# The output is a number between -90 and 90, where the difference between each number in the sequence is 3.\n",
    "random.randrange(-90, 90, step=3)"
   ]
  },
  {
   "cell_type": "code",
   "execution_count": 16,
   "id": "8767c358",
   "metadata": {},
   "outputs": [],
   "source": [
    "# NOTE\n",
    "# If you don't add the step parameter, the output will be a number with an increment of 1, which is the default integer value."
   ]
  },
  {
   "cell_type": "code",
   "execution_count": 17,
   "id": "da1fc668",
   "metadata": {},
   "outputs": [],
   "source": [
    "# This function might help us by combining the random.randrange() and random.random() functions\n",
    "# to generate a floating-point decimal between –90 and 90, like we did with the random.randint() and random.random() functions.\n",
    "\n",
    "# Let's look at one last function, the uniform() function."
   ]
  },
  {
   "cell_type": "markdown",
   "id": "f969c482",
   "metadata": {},
   "source": [
    "# The uniform() Function"
   ]
  },
  {
   "cell_type": "code",
   "execution_count": 18,
   "id": "d48d2f70",
   "metadata": {},
   "outputs": [],
   "source": [
    "# The uniform() function will allow us to generate a floating-point \n",
    "# decimal number between two given numbers inside the parentheses."
   ]
  },
  {
   "cell_type": "code",
   "execution_count": 19,
   "id": "beaa85f1",
   "metadata": {},
   "outputs": [
    {
     "data": {
      "text/plain": [
       "-15.326036187478863"
      ]
     },
     "execution_count": 19,
     "metadata": {},
     "output_type": "execute_result"
    }
   ],
   "source": [
    "# Add random.uniform(-90, 90) to a new cell and run the cell.\n",
    "random.uniform(-90, 90)"
   ]
  },
  {
   "cell_type": "code",
   "execution_count": 20,
   "id": "d2950409",
   "metadata": {},
   "outputs": [],
   "source": [
    "# The uniform() function could prove to be quite useful because it will return a floating-point decimal number! \n",
    "# The table below reviews the functions' outputs and limitations:\n",
    "\n",
    "# Functions: \n",
    "\n",
    "# randint(-90, 89)\n",
    "    # Output: Returns an integer between the interval, -90 and up to 89.\n",
    "    # Limitation: Will not generate a floating-point decimal number.\n",
    "\n",
    "# random()\n",
    "    # Output: Returns a floating-point decimal number between 0 and 1.\n",
    "    # Limitation: WLimitation: ill not generate a whole integer.\n",
    "\n",
    "# randrange(-90, 90, step=1)\n",
    "    # Output: Returns a whole integer between the interval, -90 and 90 where the step is the difference between each number in the sequence.\n",
    "    # Limitation: Will not generate a floating-point decimal number.\n",
    "    \n",
    "# uniform(-90, 90)\n",
    "    # Output: Returns a floating-point decimal number between the interval, -90 and 90.\n",
    "    # Limitation: Will not generate a whole integer."
   ]
  },
  {
   "cell_type": "code",
   "execution_count": 21,
   "id": "1ef4f7eb",
   "metadata": {},
   "outputs": [],
   "source": [
    "# Remember, we need to get more than a thousand latitudes and longitudes,\n",
    "# and running one of these functions using a while loop or other methods may take more programming than needed.\n",
    "\n",
    "# To help us generate the 1500 latitudes and longitudes, we can combine the NumPy module with one of the random module functions."
   ]
  },
  {
   "cell_type": "markdown",
   "id": "2c3974d3",
   "metadata": {},
   "source": [
    "# The NumPy and random Modules"
   ]
  },
  {
   "cell_type": "code",
   "execution_count": 22,
   "id": "a13a7ddc",
   "metadata": {},
   "outputs": [],
   "source": [
    "# One way to generate more than a thousand latitudes and longitudes is to chain the NumPy module to the random module to \n",
    "# create an array of latitudes or longitudes between the lowest and highest values, or –90° and 90°, and –180° and 180°, respectively.\n",
    "# To accomplish this, we'll use the uniform() function from the random module."
   ]
  },
  {
   "cell_type": "code",
   "execution_count": 23,
   "id": "ca0985df",
   "metadata": {},
   "outputs": [],
   "source": [
    "# Import the NumPy module.\n",
    "import numpy as np\n",
    "\n",
    "# REWIND\n",
    "# Recall that the NumPy module is a numerical mathematics library that can be used to make arrays or matrices of numbers."
   ]
  },
  {
   "cell_type": "code",
   "execution_count": 24,
   "id": "124eee71",
   "metadata": {},
   "outputs": [],
   "source": [
    "# Let's import the NumPy module in a new cell and run the cell."
   ]
  },
  {
   "cell_type": "code",
   "execution_count": 25,
   "id": "242b490c",
   "metadata": {},
   "outputs": [],
   "source": [
    "# # Import the NumPy module.\n",
    "\n",
    "import numpy as np\n",
    "\n",
    "# NOTE\n",
    "# The NumPy module has a built-in random module, and supplements the built-in Python random module. There is no need to import the random module if we import the NumPy module, as it's redundant."
   ]
  },
  {
   "cell_type": "code",
   "execution_count": 26,
   "id": "a833aedc",
   "metadata": {},
   "outputs": [
    {
     "data": {
      "text/plain": [
       "-12.24318351986308"
      ]
     },
     "execution_count": 26,
     "metadata": {},
     "output_type": "execute_result"
    }
   ],
   "source": [
    "#  generate a floating-point decimal number between –90.000 and 90.000. Adding the zeros past the decimal places is optional.\n",
    "np.random.uniform(-90.000, 90.000)"
   ]
  },
  {
   "cell_type": "code",
   "execution_count": 27,
   "id": "55386873",
   "metadata": {},
   "outputs": [],
   "source": [
    "# When we use the NumPy module with the random.uniform() function, the parenthetical parameters contain a lower boundary (low value) and an upper boundary (high value) that are floating-point decimal numbers."
   ]
  },
  {
   "cell_type": "code",
   "execution_count": 28,
   "id": "bc979025",
   "metadata": {},
   "outputs": [
    {
     "data": {
      "text/plain": [
       "-69.59964191909678"
      ]
     },
     "execution_count": 28,
     "metadata": {},
     "output_type": "execute_result"
    }
   ],
   "source": [
    "# NOTE\n",
    "# Another option is to write the parameters as np.random.uniform(low=-90, high=90).\n",
    "\n",
    "np.random.uniform(low=-90, high=90)"
   ]
  },
  {
   "cell_type": "code",
   "execution_count": 29,
   "id": "2eae1aab",
   "metadata": {},
   "outputs": [
    {
     "data": {
      "text/plain": [
       "array([ 10.90602288,  -4.04802136, -65.30366887, -12.45963192,\n",
       "        41.75548144,  88.94668049,  15.84550818,  60.63882666,\n",
       "        49.31852108,  84.34520226,  70.5533957 , -32.08549951,\n",
       "       -48.54139932,  64.38467005, -67.51463141, -43.01581831,\n",
       "        62.85101824, -47.93703307, -63.24986415,   9.32146086,\n",
       "        86.85957556, -29.98886079,  41.26944004, -19.87558076,\n",
       "       -61.40910422, -67.52360116, -25.91132231, -66.50566671,\n",
       "       -82.16055294,  28.79700893,  75.64938786, -66.95667944,\n",
       "       -73.7789103 ,  57.67916739,  16.88468551, -31.9769607 ,\n",
       "       -46.84470792,  61.86592295, -49.72267277,  72.23156928,\n",
       "        24.12545114,  53.27095723,  62.95570915, -83.88471989,\n",
       "       -43.21426194,  30.2773647 ,  42.08623255,  69.02063049,\n",
       "        26.55233647,  -1.0701139 ])"
      ]
     },
     "execution_count": 29,
     "metadata": {},
     "output_type": "execute_result"
    }
   ],
   "source": [
    "# To generate more than one floating-point decimal number between –90 and 90, we can add the size parameter when we use the NumPy module and set that equal to any whole number.\n",
    "\n",
    "# To see how this works, add the code np.random.uniform(-90.000, 90.000, size=50) to a new cell and run the cell. The output is an array of 50 floating-point decimal numbers between –90.000 and 90.000.\n",
    "\n",
    "np.random.uniform(-90.000, 90.000, size=50)"
   ]
  },
  {
   "cell_type": "code",
   "execution_count": 30,
   "id": "8941ac65",
   "metadata": {},
   "outputs": [],
   "source": [
    "# Now we are getting somewhere–all we need to do is increase the parameter size to 1,500.\n",
    "\n",
    "# Is this method faster than creating a while loop like we did before? Let's test this for a size of 1,500.\n",
    "\n",
    "# To test how long a piece of code or function takes to run, we can import the \"timeit\" module and use the %timeit magic command when we run our code or call the function."
   ]
  },
  {
   "cell_type": "code",
   "execution_count": 31,
   "id": "10db6d11",
   "metadata": {},
   "outputs": [],
   "source": [
    "# First, import the timeit module in a new cell, and run the cell.\n",
    "\n",
    "# Import timeit.\n",
    "import timeit"
   ]
  },
  {
   "cell_type": "code",
   "execution_count": 32,
   "id": "65622657",
   "metadata": {},
   "outputs": [
    {
     "name": "stdout",
     "output_type": "stream",
     "text": [
      "28 µs ± 3.42 µs per loop (mean ± std. dev. of 7 runs, 10000 loops each)\n"
     ]
    }
   ],
   "source": [
    "# add the %timeit magic command before the np.random.uniform(-90.000, 90.000, size=1500)\n",
    "\n",
    "%timeit np.random.uniform(-90.000, 90.000, size=1500)"
   ]
  },
  {
   "cell_type": "code",
   "execution_count": 33,
   "id": "cf3c4437",
   "metadata": {},
   "outputs": [],
   "source": [
    "# ↑ The output is the amount of time it took to run this code, which is an average of 14.6 microseconds. The amount of time it takes to run this code depends on the processing speed and the RAM of your computer."
   ]
  },
  {
   "cell_type": "code",
   "execution_count": 34,
   "id": "ac45c85e",
   "metadata": {},
   "outputs": [
    {
     "name": "stdout",
     "output_type": "stream",
     "text": [
      "3.37 ms ± 281 µs per loop (mean ± std. dev. of 7 runs, 100 loops each)\n"
     ]
    }
   ],
   "source": [
    "# Now, let's run the while loop as a function. Copy the following code in a new cell and run the cell.\n",
    "\n",
    "def latitudes(size):\n",
    "    latitudes = []\n",
    "    x = 0\n",
    "    while x < (size):\n",
    "        random_lat = random.randint(-90, 90) + random.random()\n",
    "        latitudes.append(random_lat)\n",
    "        x += 1\n",
    "    return latitudes\n",
    "# Call the function with 1500.\n",
    "%timeit latitudes(1500)"
   ]
  },
  {
   "cell_type": "code",
   "execution_count": 35,
   "id": "1d1fbe7f",
   "metadata": {},
   "outputs": [],
   "source": [
    "# Conclusion: \n",
    "# Using the np.random.uniform(-90.000, 90.000, size=1500) is 100 times faster than using the function,\n",
    "#and our code is one line, whereas the function uses eight lines!\n",
    "\n",
    "# NOTE\n",
    "# For more information:\n",
    "# https://docs.scipy.org/doc/numpy-1.14.0/reference/generated/numpy.random.uniform.html"
   ]
  }
 ],
 "metadata": {
  "kernelspec": {
   "display_name": "PythonData",
   "language": "python",
   "name": "pythondata"
  },
  "language_info": {
   "codemirror_mode": {
    "name": "ipython",
    "version": 3
   },
   "file_extension": ".py",
   "mimetype": "text/x-python",
   "name": "python",
   "nbconvert_exporter": "python",
   "pygments_lexer": "ipython3",
   "version": "3.7.11"
  }
 },
 "nbformat": 4,
 "nbformat_minor": 5
}
